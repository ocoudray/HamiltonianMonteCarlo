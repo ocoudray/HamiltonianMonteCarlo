{
 "cells": [
  {
   "cell_type": "code",
   "execution_count": null,
   "metadata": {},
   "outputs": [],
   "source": [
    "%load_ext autoreload\n",
    "%autoreload 2"
   ]
  },
  {
   "cell_type": "code",
   "execution_count": null,
   "metadata": {},
   "outputs": [],
   "source": [
    "from Distribution import *\n",
    "from Kernel import *\n",
    "from MCMC import *\n",
    "from Integrator import *\n",
    "import matplotlib.pyplot as plt"
   ]
  },
  {
   "cell_type": "code",
   "execution_count": null,
   "metadata": {},
   "outputs": [],
   "source": [
    "# Distribution to sample\n",
    "distribution = Normal(mu=0, sigma=1)\n",
    "\n",
    "# Kernels for Metropolis Hastings\n",
    "kernel1 = Gaussian_kernel(std=2.5) # sauts moyens\n",
    "kernel2 = Gaussian_kernel(std=0.1) # sauts petits\n",
    "kernel3 = Gaussian_kernel(std=10)  # sauts grands\n",
    "\n",
    "# Initial value\n",
    "params = {'init':5}\n",
    "\n",
    "# Metropolis Hastings algorithm\n",
    "mh1 = MH(distribution, kernel1, params)\n",
    "mh2 = MH(distribution, kernel2, params)\n",
    "mh3 = MH(distribution, kernel3, params)"
   ]
  },
  {
   "cell_type": "code",
   "execution_count": null,
   "metadata": {},
   "outputs": [],
   "source": [
    "# Run Metropolis Hastings\n",
    "mh1.run(2000)\n",
    "mh2.run(2000)\n",
    "mh3.run(2000)"
   ]
  },
  {
   "cell_type": "code",
   "execution_count": null,
   "metadata": {},
   "outputs": [],
   "source": [
    "plt.figure(figsize = (10,15))\n",
    "plt.subplot(3,1,1)\n",
    "plt.plot(mh1.saved_values)\n",
    "plt.title(\"Sauts de taille moyenne, taux d'acceptation : {} %\".format(round(100*mh1.accept,3)))\n",
    "plt.subplot(3,1,2)\n",
    "plt.plot(mh2.saved_values)\n",
    "plt.title(\"Sauts de taille petite, taux d'acceptation : {} %\".format(round(100*mh2.accept,3)))\n",
    "plt.subplot(3,1,3)\n",
    "plt.plot(mh3.saved_values)\n",
    "plt.title(\"Sauts de taille grande, taux d'acceptation : {} %\".format(round(100*mh3.accept,3)))\n",
    "plt.show()"
   ]
  },
  {
   "cell_type": "code",
   "execution_count": null,
   "metadata": {},
   "outputs": [],
   "source": [
    "plt.figure(figsize = (10,10))\n",
    "plt.hist(np.array(mh1.saved_values), bins = int((2*len(mh1.saved_values))**(1/3)),density = True, color='b', label = 'Sauts moyens', alpha=0.5)\n",
    "plt.hist(np.array(mh2.saved_values), bins = int((2*len(mh2.saved_values))**(1/3)),density = True, color='g', label = 'Sauts petits', alpha=0.5)\n",
    "plt.hist(np.array(mh3.saved_values), bins = int((2*len(mh3.saved_values))**(1/3)),density = True, color='r', label = 'Sauts grands', alpha=0.5)\n",
    "x = np.linspace(-5,5,100)\n",
    "plt.plot(x, mh1.distribution.pdf(x), color = 'black', label = 'Densité théorique')\n",
    "plt.legend()\n",
    "plt.show()"
   ]
  },
  {
   "cell_type": "code",
   "execution_count": null,
   "metadata": {},
   "outputs": [],
   "source": []
  }
 ],
 "metadata": {
  "kernelspec": {
   "display_name": "Python 3",
   "language": "python",
   "name": "python3"
  },
  "language_info": {
   "codemirror_mode": {
    "name": "ipython",
    "version": 3
   },
   "file_extension": ".py",
   "mimetype": "text/x-python",
   "name": "python",
   "nbconvert_exporter": "python",
   "pygments_lexer": "ipython3",
   "version": "3.6.7"
  }
 },
 "nbformat": 4,
 "nbformat_minor": 2
}
