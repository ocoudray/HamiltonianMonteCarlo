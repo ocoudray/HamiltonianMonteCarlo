{
 "cells": [
  {
   "cell_type": "markdown",
   "metadata": {},
   "source": [
    "# Hamiltonian Monte Carlo"
   ]
  },
  {
   "cell_type": "code",
   "execution_count": null,
   "metadata": {},
   "outputs": [],
   "source": [
    "%load_ext autoreload\n",
    "%autoreload 2"
   ]
  },
  {
   "cell_type": "code",
   "execution_count": null,
   "metadata": {},
   "outputs": [],
   "source": [
    "from Distribution import *\n",
    "from Kernel import *\n",
    "from MCMC import *\n",
    "from Integrator import *\n",
    "import matplotlib.pyplot as plt"
   ]
  },
  {
   "cell_type": "code",
   "execution_count": null,
   "metadata": {},
   "outputs": [],
   "source": [
    "# Distribution to sample\n",
    "distribution = Normal(mu=0, sigma=1)\n",
    "# distribution = Gamma(a=4,b=5)\n",
    "# distribution = Exponential(2)\n",
    "# distribution = Cauchy()\n",
    "\n",
    "# Integrator for Hamiltonian Monte Carlo\n",
    "integrator1 = Verlet(distribution, h=np.pi/100, n=100) # lambda = pi\n",
    "integrator2 = Verlet(distribution, h=1/100, n=100) # lambda = 1\n",
    "\n",
    "# Initial value\n",
    "params = {'init':1}\n",
    "\n",
    "# Hamiltonian Monte Carlo algorithm\n",
    "hmc1 = HMC(distribution, integrator1, params)\n",
    "hmc2 = HMC(distribution, integrator2, params)"
   ]
  },
  {
   "cell_type": "code",
   "execution_count": null,
   "metadata": {},
   "outputs": [],
   "source": [
    "# Run Hamiltonian Monte Carlo\n",
    "hmc1.run(1000)\n",
    "hmc2.run(1000)"
   ]
  },
  {
   "cell_type": "code",
   "execution_count": null,
   "metadata": {},
   "outputs": [],
   "source": [
    "plt.figure(figsize = (10,5))\n",
    "x = np.linspace(-5,5,100)\n",
    "plt.subplot(1,2,1)\n",
    "plt.hist(np.array(hmc1.saved_values), bins = int((2*len(hmc1.saved_values))**(1/3)),density = True, color='b', label = 'lambda = pi', alpha=0.5)\n",
    "plt.plot(x, hmc1.distribution.pdf(x), color = 'black', label = 'Densité théorique')\n",
    "plt.legend()\n",
    "plt.subplot(1,2,2)\n",
    "plt.hist(np.array(hmc2.saved_values), bins = int((2*len(hmc2.saved_values))**(1/3)),density = True, color='g', label = 'lambda = 1', alpha=0.5)\n",
    "plt.plot(x, hmc2.distribution.pdf(x), color = 'black', label = 'Densité théorique')\n",
    "plt.legend()\n",
    "plt.show()"
   ]
  },
  {
   "cell_type": "code",
   "execution_count": null,
   "metadata": {},
   "outputs": [],
   "source": [
    "plt.figure(figsize = (10,10))\n",
    "plt.scatter(hmc1.integrator.saved_q, hmc1.integrator.saved_p, s=5, color='b', label = \"lambda = pi\")\n",
    "plt.scatter(hmc2.integrator.saved_q, hmc2.integrator.saved_p, s=5, color='g', label = \"lambda = 1\")\n",
    "plt.xlabel(\"Position (X)\")\n",
    "plt.ylabel(\"Moment (P)\")\n",
    "plt.legend()\n",
    "plt.show()"
   ]
  },
  {
   "cell_type": "markdown",
   "metadata": {},
   "source": [
    "# RHMC"
   ]
  },
  {
   "cell_type": "code",
   "execution_count": null,
   "metadata": {},
   "outputs": [],
   "source": [
    "# Randomized Hamiltonian Monte Carlo algorithm\n",
    "rhmc1 = RHMC(distribution, integrator1, params)\n",
    "rhmc1.run(1000)"
   ]
  },
  {
   "cell_type": "code",
   "execution_count": null,
   "metadata": {},
   "outputs": [],
   "source": [
    "plt.figure(figsize = (15,5))\n",
    "x = np.linspace(-5,5,100)\n",
    "plt.subplot(1,2,1)\n",
    "plt.hist(np.array(hmc1.saved_values), bins = int((2*len(hmc1.saved_values))**(1/3)),density = True, color='b', label = 'HMC lambda = pi', alpha=0.5)\n",
    "plt.plot(x, hmc1.distribution.pdf(x), color = 'black', label = 'Densité théorique')\n",
    "plt.legend()\n",
    "plt.subplot(1,2,2)\n",
    "plt.hist(np.array(rhmc1.saved_values), bins = int((2*len(rhmc1.saved_values))**(1/3)),density = True, color='r', label = 'RHMC lambda = pi', alpha=0.5)\n",
    "plt.plot(x, hmc1.distribution.pdf(x), color = 'black', label = 'Densité théorique')\n",
    "plt.legend()\n",
    "plt.show()"
   ]
  }
 ],
 "metadata": {
  "kernelspec": {
   "display_name": "Python 3",
   "language": "python",
   "name": "python3"
  },
  "language_info": {
   "codemirror_mode": {
    "name": "ipython",
    "version": 3
   },
   "file_extension": ".py",
   "mimetype": "text/x-python",
   "name": "python",
   "nbconvert_exporter": "python",
   "pygments_lexer": "ipython3",
   "version": "3.6.7"
  }
 },
 "nbformat": 4,
 "nbformat_minor": 2
}
