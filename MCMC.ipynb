{
 "cells": [
  {
   "cell_type": "markdown",
   "metadata": {},
   "source": [
    "# Comparison : Metropolis Hastings and Hamiltonian Monte Carlo"
   ]
  },
  {
   "cell_type": "code",
   "execution_count": null,
   "metadata": {},
   "outputs": [],
   "source": [
    "%load_ext autoreload\n",
    "%autoreload 2"
   ]
  },
  {
   "cell_type": "code",
   "execution_count": null,
   "metadata": {},
   "outputs": [],
   "source": [
    "from Distribution import *\n",
    "from Kernel import *\n",
    "from MCMC import *\n",
    "from Integrator import *\n",
    "import matplotlib.pyplot as plt"
   ]
  },
  {
   "cell_type": "code",
   "execution_count": null,
   "metadata": {},
   "outputs": [],
   "source": [
    "# Distribution to sample\n",
    "# distribution = Normal(mu=0, sigma=1)\n",
    "distribution = Gamma(a=1,b=1)\n",
    "\n",
    "# Kernel for Metropolis Hastings\n",
    "kernel = Gaussian_kernel(std=2.5)\n",
    "\n",
    "# Integrator for Hamiltonian Monte Carlo\n",
    "integrator = Verlet(distribution, h=np.pi/100, n=10)\n",
    "\n",
    "# Initial value\n",
    "params = {'init':1}\n",
    "\n",
    "# Metropolis Hastings algorithm\n",
    "mh = MH(distribution, kernel, params)\n",
    "\n",
    "# Hamiltonian Monte Carlo algorithm\n",
    "hmc = HMC(distribution, integrator, params)"
   ]
  },
  {
   "cell_type": "code",
   "execution_count": null,
   "metadata": {},
   "outputs": [],
   "source": [
    "# Run Metropolis Hastings\n",
    "mh.run(1000)"
   ]
  },
  {
   "cell_type": "code",
   "execution_count": null,
   "metadata": {},
   "outputs": [],
   "source": [
    "# Run Hamiltonian Monte Carlo\n",
    "hmc.run(1000)"
   ]
  },
  {
   "cell_type": "code",
   "execution_count": null,
   "metadata": {},
   "outputs": [],
   "source": [
    "# Acceptation rates\n",
    "print(\"Taux acceptation MH : {} %\".format(round(100*mh.accept,3)))\n",
    "print(\"Taux acceptation HMC : {} %\".format(round(100*hmc.accept,3)))"
   ]
  },
  {
   "cell_type": "code",
   "execution_count": null,
   "metadata": {},
   "outputs": [],
   "source": [
    "# Histograms\n",
    "plt.figure(figsize = (10,10))\n",
    "x = np.linspace(-4,4,100)\n",
    "plt.plot(x, hmc.distribution.pdf(x), color = 'r', label = 'True density')\n",
    "plt.hist(np.array(hmc.saved_values), bins = int((2*len(mh.saved_values))**(1/3)),density = True, color='b', label = 'Simulations HMC', alpha=0.5)\n",
    "plt.hist(np.array(mh.saved_values), bins = int((2*len(mh.saved_values))**(1/3)),density = True, color='g', label = 'Simulations MH', alpha=0.5)\n",
    "plt.legend()\n",
    "plt.show()"
   ]
  },
  {
   "cell_type": "code",
   "execution_count": null,
   "metadata": {},
   "outputs": [],
   "source": [
    "# HMC : exploration of the space in terms of velocity and positions\n",
    "plt.figure(figsize = (10,10))\n",
    "plt.scatter(hmc.integrator.saved_q, hmc.integrator.saved_p, s=5)\n",
    "plt.xlabel(\"Position (q)\")\n",
    "plt.ylabel(\"Speed (p)\")\n",
    "plt.show()"
   ]
  },
  {
   "cell_type": "code",
   "execution_count": null,
   "metadata": {},
   "outputs": [],
   "source": []
  }
 ],
 "metadata": {
  "kernelspec": {
   "display_name": "Python 3",
   "language": "python",
   "name": "python3"
  },
  "language_info": {
   "codemirror_mode": {
    "name": "ipython",
    "version": 3
   },
   "file_extension": ".py",
   "mimetype": "text/x-python",
   "name": "python",
   "nbconvert_exporter": "python",
   "pygments_lexer": "ipython3",
   "version": "3.6.7"
  }
 },
 "nbformat": 4,
 "nbformat_minor": 2
}
